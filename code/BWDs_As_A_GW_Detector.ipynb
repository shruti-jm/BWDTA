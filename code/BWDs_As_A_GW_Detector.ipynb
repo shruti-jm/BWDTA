{
 "cells": [
  {
   "cell_type": "markdown",
   "metadata": {
    "Collapsed": "false",
    "colab_type": "text",
    "id": "cVgF3Fl7o3ka"
   },
   "source": [
    "# Using Binary White Dwarfs as a Gravitational Wave Detector"
   ]
  },
  {
   "cell_type": "code",
   "execution_count": null,
   "metadata": {
    "Collapsed": "false",
    "colab": {},
    "colab_type": "code",
    "id": "BG-p2x5Zo3kd"
   },
   "outputs": [],
   "source": [
    "import numpy as np\n",
    "\n",
    "import scipy.constants as scc\n",
    "from scipy.fft import fft, ifft\n",
    "import matplotlib\n",
    "%matplotlib inline\n",
    "from matplotlib import pyplot as plt\n",
    "\n",
    "from plots import plotTF\n",
    "\n",
    "%config InlineBackend.figure_format = 'retina'\n",
    "# plt.rc('text', usetex=True) # Google co-lab doesn't have LaTeX!\n",
    "plt.rc('font', family='serif')"
   ]
  },
  {
   "cell_type": "markdown",
   "metadata": {
    "Collapsed": "false",
    "colab_type": "text",
    "id": "MDVLtENAo3kx"
   },
   "source": [
    "Here we explore the possibility of using gravitational waves (GWs) emitted by binary white dwarfs as a GW detector, similar to the idea of using radio pulses from pulsars to detect very-low frequency (VLF) GWs. First we will give a very brief introduction to the use of pulsar timing array (PTA) for the detection of GWs, and in the second part we will try to try some analogies from PTA to use LF GWs to detect VLF GWs."
   ]
  },
  {
   "cell_type": "markdown",
   "metadata": {
    "Collapsed": "false",
    "colab_type": "text",
    "id": "AMEe3VYxo3kz"
   },
   "source": [
    "## PTA: a crash course\n",
    "\n",
    "Pulsars are constantly emitting radio pulses. When the beam of radio waves crosses the line of sight between the Earth and a pulsar, a radio pulse will be registered by radio telescopes on Earth (you can think of pulsars as lighthouses, so to speak). For more details at an accessible level, see [this presentation here](http://ipta.phys.wvu.edu/files/student-week-2014/rlynch_ipta2014_student_week_intro_to_ptas.pdf); or if you are a LIGO/Virgo (not talking about the constellations) person, you can also read [this paper](https://journals.aps.org/prd/pdf/10.1103/PhysRevD.79.084030) written by people you should have heard of. When a GW is propagating through the pulsars and the Earth, the light travel time between the pulsars and the Earth will be modified. Suppose a pulsar is located at a direction $\\hat{p}$, and that a GW is propagating towards the Earth along a direction $\\hat{\\Omega}$, then the 'redshift' of the pulse repetition rate frequency $\\nu_{\\rm em}$ at the source frame is given by\n",
    "\n",
    "$$ \\frac{\\nu_{\\rm em} - \\nu_{\\rm obs}}{\\nu_{\\rm em}} = \\frac{1}{2} \\frac{\\hat{p}^i \\hat{p}^j}{1 + \\hat{p} \\cdot \\hat{\\Omega}} \\left( h_{ij}^{P} - h_{ij}^{E} \\right) = G \\left( h_{ij}^{P} - h_{ij}^{E} \\right) $$\n",
    "\n",
    "where $G$ is some geometrical factor depending on the alignment of the Earth and the pulsar of interest. The `Earth-term' (actually **at the solar barycenter**, since luckily the Earth is orbiting the Sun) $h_{ij}^{E}$ can be written as\n",
    "$$ h_{ij}^{E} = h_{ij}(t_{E}, \\hat{\\Omega}) = \\sum_{{\\rm pol} = +,\\times} h_{{\\rm pol}}(t_{E} - \\hat{\\Omega}\\cdot \\vec{x}_{E}; \\vec{0}) e^{{\\rm pol}}_{ij}(\\hat{\\Omega}) = \\sum_{{\\rm pol} = +,\\times} \\int_{-\\infty}^{+\\infty} df \\; e^{2\\pi i f (t_{E} - \\hat{\\Omega}\\cdot \\vec{x}_{E})} \\tilde{h}_{{\\rm pol}}(f, \\hat{\\Omega}) e^{{\\rm pol}}_{ij}(\\hat{\\Omega})$$\n",
    "\n",
    "and similarly for the `pulsar term' $h_{ij}^{P}$. Therefore we can write the redshift expression as\n",
    "$$ \\frac{\\nu_{\\rm em} - \\nu_{\\rm obs}}{\\nu_{\\rm em}} = \\frac{1}{2} \\frac{\\hat{p}^i \\hat{p}^j}{1 + \\hat{p} \\cdot \\hat{\\Omega}}  \\sum_{{\\rm pol} = +,\\times} e^{{\\rm pol}}_{ij}(\\hat{\\Omega}) \\left[ h_{{\\rm pol}}(t_{E} - \\hat{\\Omega}\\cdot \\vec{x}_{E}; \\vec{0}) - h_{{\\rm pol}}(t_{P} - \\hat{\\Omega}\\cdot \\vec{x}_{P}; \\vec{0}) \\right] $$\n",
    "\n",
    "Suppose we adopted a particular coordinate system where the solar barycenter is at the coordinate origin, and putting the pulsar of interest at a location $\\vec{x}_{P} = L \\hat{p}$. If we denote $t \\equiv t_{E}$, and note that $t_{P} = t - L$, then we can write the redshift formula in *frequency domain* as\n",
    "$$ \\widetilde{\\frac{\\nu_{\\rm em} - \\nu_{\\rm obs}}{\\nu_{\\rm em}} }(f) \\; = \\sum_{{\\rm pol} = +,\\times} \\frac{1}{2} \\frac{\\hat{p}^i \\hat{p}^j}{1 + \\hat{p} \\cdot \\hat{\\Omega}} e^{{\\rm pol}}_{ij}(\\hat{\\Omega}) \\left( e^{-2\\pi ifL(1 + \\hat{p} \\cdot \\hat{\\Omega})} - 1\\right) \\tilde{h}_{{\\rm pol}}(f, \\hat{\\Omega}) $$\n",
    "where you can think of the term $F_{{\\rm pol}} (f) \\equiv \\frac{1}{2} \\frac{\\hat{p}^i \\hat{p}^j}{1 + \\hat{p} \\cdot \\hat{\\Omega}} e^{{\\rm pol}}_{ij}(\\hat{\\Omega}) \\left( e^{-2\\pi ifL(1 + \\hat{p} \\cdot \\hat{\\Omega})} - 1\\right)$ as the frequency-dependent GW response function.\n",
    "\n",
    "\n",
    "Since contribution from this term will add up coherently (i.e. the $-1$ contribution in the expression above) when we consider data from multiple pulsars at different sky locations.\n",
    "We will not be discussing the actual data analysis techniques in-depth here since most of them are rather irrevelant. One thing that we will mention here is the *expected cross-correlation* between two pulsars separated by some angular separation due to a common, isotropic (and possibly *stochastic*) GW signal, this is known as the Hellings and Downs curve. By comparing the measured cross-correlation with this expected cross-correlation (i.e. plotting many *pairs of pulsars* on the plot below), we can identify the presence of a common isotropic GW signal."
   ]
  },
  {
   "cell_type": "code",
   "execution_count": null,
   "metadata": {
    "Collapsed": "false",
    "colab": {
     "base_uri": "https://localhost:8080/",
     "height": 668
    },
    "colab_type": "code",
    "id": "nz6ARREAo3k8",
    "outputId": "a0bd0a5e-3d7c-45e9-e4af-6245e525e5fe"
   },
   "outputs": [],
   "source": [
    "plt.figure(dpi=150)\n",
    "angles = np.linspace(0, 180, num=500)\n",
    "\n",
    "@np.vectorize\n",
    "def expected_corr(angle):\n",
    "    \"\"\"\n",
    "    See either http://articles.adsabs.harvard.edu/pdf/1983ApJ...265L..39H or https://arxiv.org/pdf/1412.1142.pdf\n",
    "    \"\"\"\n",
    "    x = 0.5*(1.0 - np.cos(np.deg2rad(angle)))\n",
    "    return (1./2) - (1./4)*x + (3./2)*x*np.log(x)\n",
    "\n",
    "plt.xlabel(\"angle [degree]\")\n",
    "plt.ylabel(\"expected cross-correlation\")\n",
    "plt.xlim(0, 180)\n",
    "plt.plot(angles, expected_corr(angles))"
   ]
  },
  {
   "cell_type": "markdown",
   "metadata": {
    "Collapsed": "false",
    "colab_type": "text",
    "id": "CzqSDFW6o3lI"
   },
   "source": [
    "## BWDTA: binary white dwarf timing array (a virtual detector)\n",
    "\n"
   ]
  },
  {
   "cell_type": "markdown",
   "metadata": {
    "Collapsed": "false",
    "colab_type": "text",
    "id": "CUNvKtiFo3lM"
   },
   "source": [
    "The gravitational wave emitted by two inspiraling white dwarfs (a.k.a. BWD) is of *mostly constant frequency* in the LISA detection band (~$10^{-4} - 10^{-1}$ Hz). In fact, we can compute, to a very good accuracy, the GW waveform from the BWD system using the quadrupole formula we derived before\n",
    "\n",
    "$$ h_{+}(t) = \\frac{4}{r} \\left( \\frac{G\\mathcal{M}_{c}}{c^2} \\right)^{5/3} \\left( \\frac{\\pi f_{\\rm GW}}{c} \\right)^{2/3} \\frac{1 + \\cos^2 \\theta}{2} \\cos\\left( 2\\pi f_{\\rm GW} t_{\\rm ret} + 2\\phi \\right)$$\n",
    "$$ h_{\\times}(t) = \\frac{4}{r} \\left( \\frac{G\\mathcal{M}_{c}}{c^2} \\right)^{5/3} \\left( \\frac{\\pi f_{\\rm GW}}{c} \\right)^{2/3} \\cos \\theta \\sin\\left( 2\\pi f_{\\rm GW} t_{\\rm ret} + 2\\phi \\right)$$\n",
    "\n",
    "where $\\mathcal{M}_{c}$ is the chirp mass. That is we model the two white dwarfs as *non-spinning point masses without taking any interaction into account*.\n",
    "\n",
    "The effect of a propagating VLF GW would be, similar to the PTA case, ***changing the observed GW frequency from a BWD system***. Note that if we are targeting galactic BWDs, then we are safely ignore the cosmological redshift since $z_{\\rm BWD} \\ll 1$. That is, the VLF GW will be modulating the frequency as (to maximize confusion, we will be using $\\nu$ to denote the frequency of the VLF GW)\n",
    "$$ f^{\\rm obs}_{\\rm GW} \\; = f^{\\rm em}_{\\rm GW} \\times \\left[ 1 -  \\sum_{{\\rm pol} = +,\\times} \\frac{1}{2} \\frac{\\hat{p}^i \\hat{p}^j}{1 + \\hat{p} \\cdot \\hat{\\Omega}} e^{{\\rm pol}}_{ij}(\\hat{\\Omega}) \\left( e^{-2\\pi i\\nu L(1 + \\hat{p} \\cdot \\hat{\\Omega})} - 1\\right) \\tilde{h}_{{\\rm pol}}(\\nu, \\hat{\\Omega}) \\right]$$\n",
    "\n",
    "The frequency evolution of the wave due to GW emission is governed by\n",
    "$$ \\dot{f}_{\\rm GW} = \\frac{96}{5} \\pi^{8/3} \\left( \\frac{G\\mathcal{M}_{c}}{c^3} \\right)^{5/3} f_{\\rm GW}^{11/3} $$\n",
    "\n",
    "Note that $\\frac{GM_{\\odot}}{c^3} \\approx 4.93 \\mu s$, if we put $f_{\\rm GW} \\approx 10^{-1}$ Hz and $\\mathcal{M}_{c} \\approx 1.21 M_{\\odot}$, and that we observe the signal for 1 week (note: this *does not* have to be the lifetime of the LISA mission, more on this later), the expected change in frequency is"
   ]
  },
  {
   "cell_type": "code",
   "execution_count": null,
   "metadata": {
    "Collapsed": "false",
    "colab": {
     "base_uri": "https://localhost:8080/",
     "height": 54
    },
    "colab_type": "code",
    "id": "ZQZ8PB07o3lO",
    "outputId": "4f0c5e4a-b8d3-46c5-ba3d-f2e3fc54c9f1"
   },
   "outputs": [],
   "source": [
    "f_dot = (96./5)*np.pi**(8./3)*(4.93e-6*1.21)*(0.1)**(11./3)\n",
    "T_obs = 604800 # 1 week in second\n",
    "delta_f = f_dot * T_obs\n",
    "print(\"Expected drift in frequency: {:.3f} Hz\".format(delta_f))"
   ]
  },
  {
   "cell_type": "markdown",
   "metadata": {
    "Collapsed": "false",
    "colab_type": "text",
    "id": "R28TvsVSo3lS"
   },
   "source": [
    "This means that roughly\n",
    "$$ \\Delta f^{\\rm intrinsic}_{\\rm GW} \\approx 0.316 \\left( \\frac{\\mathcal{M}_{c}}{1.21 M_{\\odot}} \\right)^{5/3} \\left( \\frac{f_{\\rm GW}}{0.1 \\; \\rm {Hz}} \\right)^{11/3} \\left(\\frac{T_{\\rm obs}}{1 \\; {\\rm week}}\\right) \\; \\rm{Hz} $$\n",
    "\n",
    "Note that we can also solve for the frequency as a function of time from coalescence $\\tau$, which is given by\n",
    "$$ f_{\\rm GW} \\approx 134 \\left( \\frac{1.21 M_{\\odot}}{\\mathcal{M_{c}}} \\right)^{5/8} \\left( \\frac{1 \\; {\\rm s}}{\\tau} \\right)^{3/8} \\; {\\rm Hz}$$"
   ]
  },
  {
   "cell_type": "markdown",
   "metadata": {
    "colab_type": "text",
    "id": "-9U33fIcuFQJ"
   },
   "source": [
    "### Sensitivity of BWDTA using the Doppler tracking approach: a *crude* estimate\n",
    "\n"
   ]
  },
  {
   "cell_type": "code",
   "execution_count": null,
   "metadata": {
    "Collapsed": "false",
    "colab": {
     "base_uri": "https://localhost:8080/",
     "height": 607
    },
    "colab_type": "code",
    "id": "vK2pUmWWo3lT",
    "outputId": "c5380f7d-6091-48bd-9600-30b461ba61d4"
   },
   "outputs": [],
   "source": [
    "tau_enter_LISA_band = (1e-4/134.)**(-8./3.) # Time measured from coalescence that the BWD signal enters the LISA band\n",
    "tau_leave_LISA_band = (1e-1/134.)**(-8./3.) # Time measured from coalescence that the BWD signal leaves the LISA band\n",
    "N_obs = 40\n",
    "times = np.linspace(tau_enter_LISA_band, tau_enter_LISA_band - N_obs*T_obs, num=N_obs) # making 40 observations\n",
    "\n",
    "@np.vectorize\n",
    "def f_gw(tau):\n",
    "    return 134.0*(1./tau)**(3./8.)\n",
    "\n",
    "@np.vectorize\n",
    "def h_vlf(t):\n",
    "    # VLF GW plane wave: h(t) = A*cos(2\\pi f t + phi_0)\n",
    "    A = 1e-7\n",
    "    f = 1./(10*604800) # Hz\n",
    "    phi_0 = np.pi/2.\n",
    "    return A*np.cos(2.*np.pi*f*t + phi_0)\n",
    "\n",
    "@np.vectorize\n",
    "def redshift_by_vlf(f_em, t):\n",
    "    G = 1 # The geometrical pre-factor, set G as 1 for now\n",
    "    # Account for the Earth term only now\n",
    "    return f_em - G*(h_vlf(t))\n",
    "\n",
    "@np.vectorize\n",
    "def doppler_shift(f_em, v_rel):\n",
    "    D = np.sqrt((1-v_rel/c)/(1+v_rel/c))\n",
    "    return D*f_em\n",
    "\n",
    "plt.figure(dpi=150)\n",
    "plt.scatter((tau_enter_LISA_band - times[::-1])/T_obs, f_gw(times)[::-1], marker=\"x\", label=\"VLF GW absent\")\n",
    "plt.scatter((tau_enter_LISA_band - times[::-1])/T_obs, redshift_by_vlf(f_gw(times)[::-1], times[::-1]), marker=\"o\", label=\"VLF GW present, \" + r\"$A = 1 \\times 10^{-7}, f_{\\rm VLF} = 1.65 \\times 10^{-7}$\" + \" Hz\", zorder=-10)\n",
    "plt.ylim(0.998e-4, 1.002e-4)\n",
    "plt.xlabel(\"number of observations\")\n",
    "plt.ylabel(r\"$f_{\\rm GW}$ [Hz]\")\n",
    "plt.legend()\n",
    "plt.ticklabel_format(axis=\"y\", style=\"sci\", scilimits=(0,0))"
   ]
  },
  {
   "cell_type": "markdown",
   "metadata": {
    "Collapsed": "false",
    "colab_type": "text",
    "id": "Mt3GKMbbo3lh"
   },
   "source": [
    "Can you see the VLF plane wave? Note that this does not say anything about the amplitude of the VLF GW that we can detect -- one can always change the scale of the y-axis of the plot so that the deviation can be seen by eyes!"
   ]
  },
  {
   "cell_type": "markdown",
   "metadata": {
    "Collapsed": "false",
    "colab_type": "text",
    "id": "IZ7sdVOgo3lj"
   },
   "source": [
    "Now, we can already place some constraints on the GWs that we can detect using a single BWD system:\n"
   ]
  },
  {
   "cell_type": "markdown",
   "metadata": {
    "colab_type": "text",
    "id": "vSQU1mBluXkD"
   },
   "source": [
    "1) Assuming that we can measure the GW frequency of a BWD inspiral signal *perfectly*, the change in frequency *due to the VLF GW* must be larger than the shift in frequency due to the BWD intrinsic dynamics. This imposes a limit on *amplitude of the VLF GW* we can detect using this setup\n"
   ]
  },
  {
   "cell_type": "markdown",
   "metadata": {
    "colab_type": "text",
    "id": "EXSKG_HMuTwg"
   },
   "source": [
    "2) since we are trying to detect GWs by observing the change in BWD GW frequency over the LISA mission (about 4 years), the VLF GW plane wave should at least complete one cycle, the lowest possible VLF frequency that we are sensitive to is"
   ]
  },
  {
   "cell_type": "code",
   "execution_count": null,
   "metadata": {
    "colab": {
     "base_uri": "https://localhost:8080/",
     "height": 54
    },
    "colab_type": "code",
    "id": "Ak66qDQhscok",
    "outputId": "ae23e2d7-c296-40e4-9429-c767340aba72"
   },
   "outputs": [],
   "source": [
    "f_VLF_lower_bound = 1/(4*3.154e+7) # Change to your favorite number\n",
    "print(\"Lower sensitive frequency: {:.3E} Hz\".format(f_VLF_lower_bound))"
   ]
  },
  {
   "cell_type": "markdown",
   "metadata": {
    "colab_type": "text",
    "id": "-950FbSns63H"
   },
   "source": [
    "3) Since we are measuring the BWD GW frequency using data segment of length $T_{\\rm obs}$, the `VLF' GW should have a frequency $f_{\\rm VLF} \\ll \\frac{1}{T_{\\rm obs}}$"
   ]
  },
  {
   "cell_type": "code",
   "execution_count": null,
   "metadata": {
    "colab": {
     "base_uri": "https://localhost:8080/",
     "height": 54
    },
    "colab_type": "code",
    "id": "c9c0TvH5tdsj",
    "outputId": "bac59ede-4e04-4d5a-d02c-6b2e7b42989d"
   },
   "outputs": [],
   "source": [
    "f_VLF_upper_bound = 1./T_obs\n",
    "print(\"Upper sensitive frequency: {:.3E} Hz\".format(f_VLF_upper_bound))\n"
   ]
  },
  {
   "cell_type": "markdown",
   "metadata": {
    "Collapsed": "false",
    "colab_type": "text",
    "id": "sFq3NTKDo3lv"
   },
   "source": [
    "Now we can plot the sensitivity (in characteristic strain) of our ideal BWD'TA' (because this is for a single BWD)"
   ]
  },
  {
   "cell_type": "code",
   "execution_count": null,
   "metadata": {
    "Collapsed": "false",
    "colab": {},
    "colab_type": "code",
    "id": "k1_YC4n2o3lw"
   },
   "outputs": [],
   "source": [
    "# Plot the BWDTA sensitivity plot"
   ]
  },
  {
   "cell_type": "code",
   "execution_count": null,
   "metadata": {
    "colab": {},
    "colab_type": "code",
    "id": "yP9I01N78fZZ"
   },
   "outputs": [],
   "source": []
  },
  {
   "cell_type": "markdown",
   "metadata": {
    "colab_type": "text",
    "id": "hDuZo0pk8f7R"
   },
   "source": [
    "# Simple Phase Modulation and Signal Reconstruction\n",
    "\n",
    "$$ h_{obs} = h_{BWD}e^{-i2\\pi f_0t} \\times \\left(1+ \\frac{i\\Gamma}{2}(e^{-i2\\pi ft} + e^{i2\\pi ft} )\\right)$$\n",
    "\n",
    "$\\Gamma \\sim h_{SS}$ where $h_{SS}$ is the strain amplitude from a secondary source which is of frequency $f$.\n",
    "\n",
    "Define the time-domain waveform from a solitary Binary White Dwarf (BWD) with frequency `f0`, strain amplitude `h_BWD` in `carr()`\\\n",
    "Assume a phase modulation caused by a secondary source with frequency `f` and modulation depth `Gamma` in `net_waveform_tf()`"
   ]
  },
  {
   "cell_type": "code",
   "execution_count": null,
   "metadata": {
    "colab": {},
    "colab_type": "code",
    "id": "NK7uXLfF85on"
   },
   "outputs": [],
   "source": [
    "# Some useful functions\n",
    "def days_to_secs(t):\n",
    "    return t*24*3600\n",
    "\n",
    "def wrap_phase(arr, res=0.04):\n",
    "    for i in range(len(arr)-1):\n",
    "        if arr[i+1]-arr[i] >= 2*np.pi-res:\n",
    "            arr[:i+1] = arr[:i+1] + 2*np.pi\n",
    "        elif arr[i+1]-arr[i] <= -2*np.pi+res:\n",
    "            arr[:i+1] = arr[:i+1] - 2*np.pi\n",
    "        else:\n",
    "            continue\n",
    "    return arr"
   ]
  },
  {
   "cell_type": "code",
   "execution_count": null,
   "metadata": {
    "colab": {},
    "colab_type": "code",
    "id": "QdYX0X0G8mh_"
   },
   "outputs": [],
   "source": [
    "def carr(t, h_BWD=1, f0=1e-3):\n",
    "    w0 = 2*np.pi*f0\n",
    "    return h_BWD*np.exp(-1j*w0*t)\n",
    "\n",
    "def modulation(t, f=1e-6, Gamma=.1):\n",
    "    w = 2*np.pi*f\n",
    "    return (1 + 1j*Gamma/2 *(np.exp(-1j*w*t) + np.exp(1j*w*t)))\n"
   ]
  },
  {
   "cell_type": "code",
   "execution_count": null,
   "metadata": {
    "colab": {
     "base_uri": "https://localhost:8080/",
     "height": 282
    },
    "colab_type": "code",
    "id": "vW-5wBDl9B2Y",
    "outputId": "4e95e40e-ef55-45d5-f3d9-df62b132b175"
   },
   "outputs": [],
   "source": [
    "t = np.linspace(1,10, 100)\n",
    "t_s = days_to_secs(t)\n",
    "\n",
    "sig_obs = np.abs(carr(t_s)*modulation(t_s))**2\n",
    "plt.plot(t, sig_obs)"
   ]
  },
  {
   "cell_type": "code",
   "execution_count": null,
   "metadata": {
    "colab": {
     "base_uri": "https://localhost:8080/",
     "height": 416
    },
    "colab_type": "code",
    "id": "vUdSF9P8_HB8",
    "outputId": "f3d33cc1-d670-4ed7-bc01-9b8a460fa42d"
   },
   "outputs": [],
   "source": [
    "ang = np.angle(-carr(t_s)*modulation(t_s))\n",
    "\n",
    "plt.figure(dpi=100)\n",
    "plt.scatter(t,ang)\n",
    "plt.xlabel(\"Time [days]\")\n",
    "plt.ylabel(r\"Phase [rad]\")\n",
    "plt.legend()"
   ]
  },
  {
   "cell_type": "code",
   "execution_count": null,
   "metadata": {
    "colab": {
     "base_uri": "https://localhost:8080/",
     "height": 414
    },
    "colab_type": "code",
    "id": "9sgZxx5m9lxB",
    "outputId": "a169602d-4f7b-4772-b2aa-22db7333700c"
   },
   "outputs": [],
   "source": [
    "carr_mod = np.angle(-carr(t_s))\n",
    "sig = ang - carr_mod\n",
    "plt.figure(dpi=100)\n",
    "plt.scatter(t, sig)\n",
    "plt.ylabel(r'Unwrapped residual phase of secondary signal [rad]')\n",
    "plt.xlabel(r'Time [days]');"
   ]
  },
  {
   "cell_type": "code",
   "execution_count": null,
   "metadata": {
    "colab": {
     "base_uri": "https://localhost:8080/",
     "height": 565
    },
    "colab_type": "code",
    "id": "r-t6Obg09rNR",
    "outputId": "81631471-eee0-43d2-a0d8-a8c9cea0ed43"
   },
   "outputs": [],
   "source": [
    "plt.figure(dpi=150)\n",
    "plt.scatter(t, wrap_phase(sig))\n",
    "plt.ylabel(r'Residual phase of secondary signal [rad]')\n",
    "plt.xlabel(r'Time [days]');"
   ]
  },
  {
   "cell_type": "markdown",
   "metadata": {
    "colab_type": "text",
    "id": "nVQbNQAL-Wiy"
   },
   "source": [
    "To obtain the parameters $\\Gamma$ and $f$ of the signal, "
   ]
  },
  {
   "cell_type": "code",
   "execution_count": null,
   "metadata": {
    "colab": {},
    "colab_type": "code",
    "id": "88wHq5i9-NhE"
   },
   "outputs": [],
   "source": []
  },
  {
   "cell_type": "markdown",
   "metadata": {
    "colab_type": "text",
    "id": "jSw8zdRoqUHw"
   },
   "source": [
    "### Measurement error: a Fisher-matrix analysis"
   ]
  },
  {
   "cell_type": "code",
   "execution_count": null,
   "metadata": {
    "colab": {},
    "colab_type": "code",
    "id": "0a4K82k88lwX"
   },
   "outputs": [],
   "source": []
  },
  {
   "cell_type": "markdown",
   "metadata": {
    "colab_type": "text",
    "id": "-WN3CCYGqq4c"
   },
   "source": [
    "### MCMC fitting for phase residual"
   ]
  },
  {
   "cell_type": "code",
   "execution_count": null,
   "metadata": {
    "colab": {},
    "colab_type": "code",
    "id": "3tZhryukqY7S"
   },
   "outputs": [],
   "source": [
    "import emcee\n"
   ]
  },
  {
   "cell_type": "code",
   "execution_count": null,
   "metadata": {
    "colab": {
     "base_uri": "https://localhost:8080/",
     "height": 139
    },
    "colab_type": "code",
    "id": "XsFgXg30sWLN",
    "outputId": "95cd5e15-6722-498c-eb29-257a96a8d096"
   },
   "outputs": [],
   "source": [
    "!pip install emcee"
   ]
  },
  {
   "cell_type": "code",
   "execution_count": null,
   "metadata": {
    "colab": {},
    "colab_type": "code",
    "id": "FEudLCVLtInN"
   },
   "outputs": [],
   "source": []
  }
 ],
 "metadata": {
  "colab": {
   "collapsed_sections": [],
   "name": "BWDs_As_A_GW_Detector.ipynb",
   "provenance": [],
   "toc_visible": true
  },
  "kernelspec": {
   "display_name": "Python 3",
   "language": "python",
   "name": "python3"
  },
  "language_info": {
   "codemirror_mode": {
    "name": "ipython",
    "version": 3
   },
   "file_extension": ".py",
   "mimetype": "text/x-python",
   "name": "python",
   "nbconvert_exporter": "python",
   "pygments_lexer": "ipython3",
   "version": "3.7.7"
  }
 },
 "nbformat": 4,
 "nbformat_minor": 1
}
