{
 "cells": [
  {
   "cell_type": "markdown",
   "metadata": {
    "colab_type": "text",
    "id": "XWRLPrYeoYsb"
   },
   "source": [
    "# Binary White Dwarf Timing Array (BWDTA) Analysis\n",
    "\n",
    "1. SMBH merger strain at MW barycenter\n",
    "\n",
    "2. BWD Preliminaries\\\n",
    "  a. Population Distribution of BWDs in the Milky Way (spatial)\\\n",
    "  b. Mass distribution \\\n",
    "  c. Frequency distribution\\\n",
    "  d. Peculiar velocity\n",
    "\n",
    "3. Measuring the phase modulation using a BWD antenna"
   ]
  },
  {
   "cell_type": "code",
   "execution_count": null,
   "metadata": {
    "colab": {},
    "colab_type": "code",
    "id": "-J8rDuyxxia_"
   },
   "outputs": [],
   "source": [
    "import numpy as np\n",
    "import scipy.constants as scc\n",
    "import matplotlib.pyplot as plt, matplotlib as mpl\n",
    "mpl.style.use(['fivethirtyeight'])\n",
    "\n",
    "import matplotlib.colors as colors"
   ]
  },
  {
   "cell_type": "code",
   "execution_count": null,
   "metadata": {},
   "outputs": [],
   "source": [
    "# Useful constants\n",
    "M_sol = 1.989e30    # 1 solar mass in kg\n",
    "H0 = 70             # Hubble's constant in km/s/Mpc\n",
    "\n",
    "# Useful functions \n",
    "\n",
    "def kpcTom(k):\n",
    "    ''' kiloparsec to metres'''\n",
    "    return 3.086e19*k\n",
    "\n",
    "def zTod(z):\n",
    "    '''redshift to distance in parsecs'''\n",
    "    return z * scc.c / H0 * 1e3"
   ]
  },
  {
   "cell_type": "markdown",
   "metadata": {},
   "source": [
    "# 1. SMBH merger strain at MW barycenter\n",
    "\n",
    "Assuming equal mass black holes with chirp mass range 100-10$^9 M_\\odot$\n",
    "\n",
    "Since we're interested in $10^{-10} \\text{ to }10^{-6}$ Hz, the orbital period range considered is $10^6$ to $10^{10}$ s"
   ]
  },
  {
   "cell_type": "code",
   "execution_count": null,
   "metadata": {},
   "outputs": [],
   "source": [
    "def smbh_h(M,P,r=zTod(1)):\n",
    "    '''Calculates strain\n",
    "    M: in solar masses\n",
    "    P: in hours\n",
    "    r: in parsecs\n",
    "    '''\n",
    "    return 1e-21 * (M)**(5/3) * (P)**(-2/3) * (100/r)"
   ]
  },
  {
   "cell_type": "code",
   "execution_count": null,
   "metadata": {},
   "outputs": [],
   "source": [
    "smbh_M_ = np.logspace(2,9,100)\n",
    "smbh_f_ = np.logspace(-10,-6,100)\n",
    "\n",
    "\n",
    "smbh_M, smbh_f = np.meshgrid(smbh_M_, smbh_f_)\n",
    "smbh_h_arr = smbh_h(smbh_M, 1/smbh_f*2/3600)"
   ]
  },
  {
   "cell_type": "code",
   "execution_count": null,
   "metadata": {},
   "outputs": [],
   "source": [
    "levels = np.logspace(-29,-16,10)\n",
    "\n",
    "fig, ax = plt.subplots(figsize=(10,8))\n",
    "im = ax.pcolormesh(smbh_f, smbh_M, smbh_h_arr, \\\n",
    "    norm=colors.LogNorm(vmin=smbh_h_arr.min(), vmax=smbh_h_arr.max()))\n",
    "fig.colorbar(im, ax=ax)\n",
    "cont = ax.contour(smbh_f, smbh_M, smbh_h_arr , levels, linewidths=1, alpha=.9, colors='k', locator=plt.LogLocator())\n",
    "ax.clabel(cont, levels, fmt='%1.0e',inline=True, use_clabeltext=True, rightside_up=1, fontsize=11)\n",
    "ax.set_xlabel('GW freq [Hz]')\n",
    "ax.set_ylabel('Chirp Mass [solar masses]')\n",
    "ax.set_xscale('log')\n",
    "ax.set_yscale('log')\n",
    "ax.set_title('SMBH strain at z = 1');\n",
    "fig.savefig('SMBHStrainz1.pdf')"
   ]
  },
  {
   "cell_type": "markdown",
   "metadata": {
    "colab_type": "text",
    "id": "nlqBMRvhoXQu"
   },
   "source": [
    "## 2. \n",
    "\n",
    "In order to look at the spatial, mass, and frequency distribution of the BWD population, the "
   ]
  },
  {
   "cell_type": "markdown",
   "metadata": {
    "colab_type": "text",
    "id": "s2upI0pQpUi_"
   },
   "source": [
    "### b. Mass distribution\n"
   ]
  },
  {
   "cell_type": "code",
   "execution_count": null,
   "metadata": {
    "colab": {},
    "colab_type": "code",
    "id": "vdzgtdcnxibJ"
   },
   "outputs": [],
   "source": []
  },
  {
   "cell_type": "code",
   "execution_count": null,
   "metadata": {
    "colab": {},
    "colab_type": "code",
    "id": "UBQZkVZgxibU"
   },
   "outputs": [],
   "source": [
    "def Mchirp(M1, M2):\n",
    "    return (M1*M2)**(3/5)/(M1+M2)**(1/5)\n",
    "\n",
    "def dfdt(f=1e-3, M=1):\n",
    "    return 3.7e-6*M**(5/3)*f**(11/3)\n",
    "\n",
    "def h(r=1, f=1e-3, M=1):\n",
    "    return 2*(4*np.pi)**2*f**(2/3)*scc.G**(5/3)/scc.c**4*\\\n",
    "        (M*M_sol)**(5/3)/(kpcTom(r))"
   ]
  },
  {
   "cell_type": "markdown",
   "metadata": {
    "colab_type": "text",
    "id": "zGks7QBF0Cz3"
   },
   "source": [
    "Using the quadrupole formula (above) $h$ is plotted below as a function of chirp mass and GW frequenc"
   ]
  },
  {
   "cell_type": "code",
   "execution_count": null,
   "metadata": {
    "colab": {
     "base_uri": "https://localhost:8080/",
     "height": 563
    },
    "colab_type": "code",
    "id": "qamE-Lifxiba",
    "outputId": "2d0adcf8-6cac-4a3f-b7f1-f465b8760347",
    "scrolled": true
   },
   "outputs": [],
   "source": [
    "\n",
    "mc_ = np.linspace(.3,1,50)\n",
    "f_ = np.logspace(-6,-3,50)\n",
    "mc,f = np.meshgrid(mc_,f_)\n",
    "h_vals = h(f=f,M=mc)\n",
    "\n",
    "levels = np.logspace(-23,-19,10)\n",
    "\n",
    "fig, ax = plt.subplots(figsize=(10,8))\n",
    "im = ax.pcolormesh(f, mc, h_vals, \\\n",
    "    norm=colors.LogNorm(vmin=h_vals.min(), vmax=h_vals.max()))\n",
    "fig.colorbar(im, ax=ax)\n",
    "cont = ax.contour(f, mc, h_vals , levels, linewidths=.5,colors='k')\n",
    "ax.clabel(cont, fmt='%1.0e',inline=1, fontsize=10)\n",
    "ax.set_xlabel('Frequency [Hz]')\n",
    "ax.set_ylabel('Chirp Mass')\n",
    "ax.set_xscale('log')\n",
    "ax.set_title('Strain at 1 kPc')\n",
    "#fig.savefig('Strain1kpc.pdf')"
   ]
  },
  {
   "cell_type": "code",
   "execution_count": null,
   "metadata": {
    "colab": {
     "base_uri": "https://localhost:8080/",
     "height": 342
    },
    "colab_type": "code",
    "id": "df6Y5h44xibi",
    "outputId": "8a9f9f22-8b22-47e5-d5e7-16e77aa8b855"
   },
   "outputs": [],
   "source": [
    "m_ = np.linspace(.17,1.33,20)\n",
    "m1, m2 = np.meshgrid(m_,m_)\n",
    "mc = Mchirp(m1,m2)\n",
    "\n",
    "fig, ax = plt.subplots()\n",
    "im = ax.pcolormesh(m1, m2, mc)\n",
    "fig.colorbar(im, ax=ax)\n",
    "cont = ax.contour(m1, m2, mc, linewidths=.5,colors='k')\n",
    "ax.clabel(cont, fmt='%1.1f',inline=1, fontsize=10)\n",
    "ax.set_xlabel('M1')\n",
    "ax.set_ylabel('M2')\n",
    "ax.set_title('Chirp mass')\n",
    "#fig.tight_layout()"
   ]
  },
  {
   "cell_type": "code",
   "execution_count": null,
   "metadata": {
    "colab": {},
    "colab_type": "code",
    "id": "ucRYN7NPxibu"
   },
   "outputs": [],
   "source": []
  },
  {
   "cell_type": "code",
   "execution_count": null,
   "metadata": {},
   "outputs": [],
   "source": []
  },
  {
   "cell_type": "code",
   "execution_count": null,
   "metadata": {},
   "outputs": [],
   "source": []
  }
 ],
 "metadata": {
  "colab": {
   "name": "BWDTA.ipynb",
   "provenance": []
  },
  "kernelspec": {
   "display_name": "Python 3",
   "language": "python",
   "name": "python3"
  },
  "language_info": {
   "codemirror_mode": {
    "name": "ipython",
    "version": 3
   },
   "file_extension": ".py",
   "mimetype": "text/x-python",
   "name": "python",
   "nbconvert_exporter": "python",
   "pygments_lexer": "ipython3",
   "version": "3.7.7"
  }
 },
 "nbformat": 4,
 "nbformat_minor": 1
}
