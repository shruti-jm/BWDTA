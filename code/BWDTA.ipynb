{
 "cells": [
  {
   "cell_type": "markdown",
   "metadata": {
    "colab_type": "text",
    "id": "XWRLPrYeoYsb"
   },
   "source": [
    "# Binary White Dwarf Timing Array (BWDTA) Analysis\n",
    "\n",
    "1. BWD Preliminaries\\\n",
    "  a. Population Distribution of BWDs in the Milky Way (spatial)\\\n",
    "  b. Mass distribution \\\n",
    "  c. Frequency distribution\\\n",
    "  d. Peculiar velocity\n",
    "\n",
    "2. Measuring the phase modulation using a BWD antenna"
   ]
  },
  {
   "cell_type": "code",
   "execution_count": null,
   "metadata": {
    "colab": {},
    "colab_type": "code",
    "id": "-J8rDuyxxia_"
   },
   "outputs": [],
   "source": [
    "import numpy as np\n",
    "import scipy.constants as scc\n",
    "import matplotlib.pyplot as plt, matplotlib as mpl\n",
    "mpl.style.use(['fivethirtyeight'])\n",
    "\n",
    "import matplotlib.colors as colors"
   ]
  },
  {
   "cell_type": "markdown",
   "metadata": {
    "colab_type": "text",
    "id": "nlqBMRvhoXQu"
   },
   "source": [
    "## 1. \n",
    "\n",
    "In order to look at the spatial, mass, and frequency distribution of the BWD population, the "
   ]
  },
  {
   "cell_type": "markdown",
   "metadata": {
    "colab_type": "text",
    "id": "s2upI0pQpUi_"
   },
   "source": [
    "### b. Mass distribution\n"
   ]
  },
  {
   "cell_type": "code",
   "execution_count": null,
   "metadata": {
    "colab": {},
    "colab_type": "code",
    "id": "vdzgtdcnxibJ"
   },
   "outputs": [],
   "source": [
    "def kpcTom(k):\n",
    "    return 3.086e19*k\n",
    "\n",
    "M_sol = 1.989e30"
   ]
  },
  {
   "cell_type": "code",
   "execution_count": null,
   "metadata": {
    "colab": {},
    "colab_type": "code",
    "id": "UBQZkVZgxibU"
   },
   "outputs": [],
   "source": [
    "def Mchirp(M1, M2):\n",
    "    return (M1*M2)**(3/5)/(M1+M2)**(1/5)\n",
    "\n",
    "def dfdt(f=1e-3, M=1):\n",
    "    return 3.7e-6*M**(5/3)*f**(11/3)\n",
    "\n",
    "def h(r=1, f=1e-3, M=1):\n",
    "    return 2*(4*np.pi)**2*f**(2/3)*scc.G**(5/3)/scc.c**4*\\\n",
    "        (M*M_sol)**(5/3)/(kpcTom(r))"
   ]
  },
  {
   "cell_type": "markdown",
   "metadata": {
    "colab_type": "text",
    "id": "zGks7QBF0Cz3"
   },
   "source": [
    "Using the quadrupole formula (above) $h$ is plotted below as a function of chirp mass and GW frequenc"
   ]
  },
  {
   "cell_type": "code",
   "execution_count": null,
   "metadata": {
    "colab": {
     "base_uri": "https://localhost:8080/",
     "height": 563
    },
    "colab_type": "code",
    "id": "qamE-Lifxiba",
    "outputId": "2d0adcf8-6cac-4a3f-b7f1-f465b8760347",
    "scrolled": true
   },
   "outputs": [],
   "source": [
    "\n",
    "mc_ = np.linspace(.3,1,50)\n",
    "f_ = np.logspace(-6,-3,50)\n",
    "mc,f = np.meshgrid(mc_,f_)\n",
    "h_vals = h(f=f,M=mc)\n",
    "\n",
    "levels = np.logspace(-23,-19,10)\n",
    "\n",
    "fig, ax = plt.subplots(figsize=(10,8))\n",
    "im = ax.pcolormesh(f, mc, h_vals, \\\n",
    "    norm=colors.LogNorm(vmin=h_vals.min(), vmax=h_vals.max()))\n",
    "fig.colorbar(im, ax=ax)\n",
    "cont = ax.contour(f, mc, h_vals , levels, linewidths=.5,colors='k')\n",
    "ax.clabel(cont, fmt='%1.0e',inline=1, fontsize=10)\n",
    "ax.set_xlabel('Frequency [Hz]')\n",
    "ax.set_ylabel('Chirp Mass')\n",
    "ax.set_xscale('log')\n",
    "ax.set_title('Strain at 1 kPc')\n",
    "fig.savefig('Strain1kpc.pdf')"
   ]
  },
  {
   "cell_type": "code",
   "execution_count": null,
   "metadata": {
    "colab": {
     "base_uri": "https://localhost:8080/",
     "height": 342
    },
    "colab_type": "code",
    "id": "df6Y5h44xibi",
    "outputId": "8a9f9f22-8b22-47e5-d5e7-16e77aa8b855"
   },
   "outputs": [],
   "source": [
    "m_ = np.linspace(.17,1.33,20)\n",
    "m1, m2 = np.meshgrid(m_,m_)\n",
    "mc = Mchirp(m1,m2)\n",
    "\n",
    "fig, ax = plt.subplots()\n",
    "im = ax.pcolormesh(m1, m2, mc)\n",
    "fig.colorbar(im, ax=ax)\n",
    "cont = ax.contour(m1, m2, mc, linewidths=.5,colors='k')\n",
    "ax.clabel(cont, fmt='%1.1f',inline=1, fontsize=10)\n",
    "ax.set_xlabel('M1')\n",
    "ax.set_ylabel('M2')\n",
    "ax.set_title('Chirp mass')\n",
    "#fig.tight_layout()"
   ]
  },
  {
   "cell_type": "code",
   "execution_count": null,
   "metadata": {
    "colab": {},
    "colab_type": "code",
    "id": "ucRYN7NPxibu"
   },
   "outputs": [],
   "source": []
  }
 ],
 "metadata": {
  "colab": {
   "name": "BWDTA.ipynb",
   "provenance": []
  },
  "kernelspec": {
   "display_name": "Python 3",
   "language": "python",
   "name": "python3"
  },
  "language_info": {
   "codemirror_mode": {
    "name": "ipython",
    "version": 3
   },
   "file_extension": ".py",
   "mimetype": "text/x-python",
   "name": "python",
   "nbconvert_exporter": "python",
   "pygments_lexer": "ipython3",
   "version": "3.7.7"
  }
 },
 "nbformat": 4,
 "nbformat_minor": 1
}
