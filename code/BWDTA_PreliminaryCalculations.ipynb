{
 "cells": [
  {
   "cell_type": "markdown",
   "metadata": {
    "colab_type": "text",
    "id": "XWRLPrYeoYsb"
   },
   "source": [
    "# Binary White Dwarf Timing Array (BWDTA) Analysis\n",
    "\n",
    "[__1.__](#smbh) SMBH merger strain at MW barycenter\n",
    "\n",
    "[__2.__](#bwd) BWD Preliminaries\\\n",
    "  a. Population Distribution of BWDs in the Milky Way (spatial)\\\n",
    "  b. Mass distribution \\\n",
    "  c. Frequency distribution\\\n",
    "  d. Peculiar velocity\n",
    "\n",
    "[__3.__](#phase) Measuring the phase modulation using a BWD antenna"
   ]
  },
  {
   "cell_type": "code",
   "execution_count": null,
   "metadata": {
    "colab": {},
    "colab_type": "code",
    "id": "-J8rDuyxxia_"
   },
   "outputs": [],
   "source": [
    "import numpy as np\n",
    "import scipy.constants as scc\n",
    "from scipy.signal import butter, lfilter, freqs, filtfilt\n",
    "\n",
    "import matplotlib.pyplot as plt, matplotlib as mpl\n",
    "mpl.style.use(['fivethirtyeight'])\n",
    "\n",
    "import matplotlib.colors as colors"
   ]
  },
  {
   "cell_type": "code",
   "execution_count": null,
   "metadata": {},
   "outputs": [],
   "source": [
    "# Useful constants\n",
    "M_sol = 1.989e30    # 1 solar mass in kg\n",
    "H0 = 70             # Hubble's constant in km/s/Mpc\n",
    "\n",
    "# Useful functions \n",
    "\n",
    "def kpcTom(k):\n",
    "    ''' kiloparsec to metres'''\n",
    "    return 3.086e19*k\n",
    "\n",
    "def zTod(z):\n",
    "    '''redshift to distance in parsecs'''\n",
    "    return z * scc.c / H0 * 1e3\n",
    "\n",
    "def fgwTop(f):\n",
    "    '''freq in Hz to period in hours'''\n",
    "    return 1/f / 3600\n",
    "\n",
    "def Mchirp(M1, M2):\n",
    "    ''' chirp mass from constituent masses'''\n",
    "    return (M1 * M2)**(3/5) / (M1 + M2)**(1/5)"
   ]
  },
  {
   "cell_type": "code",
   "execution_count": null,
   "metadata": {},
   "outputs": [],
   "source": [
    "# Quadrupole approximation strain estimate #\n",
    "\n",
    "def h(r=1, f=1e-3, M=1):\n",
    "    ''' Strain from the quadrupole formula\n",
    "    r: distance in parsec\n",
    "    M: solar masses\n",
    "    f: GW frequency in Hz'''\n",
    "    return 2 * (4 * np.pi)**2 * f**(2/3) * scc.G**(5/3) / scc.c**4 \\\n",
    "             * (M * M_sol)**(5/3) / (kpcTom(r))"
   ]
  },
  {
   "cell_type": "markdown",
   "metadata": {},
   "source": [
    "<a name=\"smbh\"> </a>\n",
    "\n",
    "# 1. SMBH merger strain at MW barycenter\n",
    "\n",
    "Assuming equal mass black holes with chirp mass range 100-10$^9 M_\\odot$\n",
    "\n",
    "Since we're interested in $10^{-10} \\text{ to }10^{-6}$ Hz, the orbital period range considered is $10^6$ to $10^{10}$ s"
   ]
  },
  {
   "cell_type": "code",
   "execution_count": null,
   "metadata": {},
   "outputs": [],
   "source": [
    "#def smbh_h(M,P,r=zTod(1)):\n",
    "    #'''Calculates strain\n",
    "    #M: in solar masses\n",
    "    #P: in hours\n",
    "    #r: in parsecs\n",
    "    #'''\n",
    "    # return 1e-21 * (M)**(5/3) * (P)**(-2/3) * (100/r)"
   ]
  },
  {
   "cell_type": "code",
   "execution_count": null,
   "metadata": {},
   "outputs": [],
   "source": [
    "smbh_M_ = np.logspace(2,9,100)\n",
    "smbh_f_ = np.logspace(-10,-6,100)\n",
    "\n",
    "\n",
    "smbh_M, smbh_f = np.meshgrid(smbh_M_, smbh_f_)\n",
    "smbh_h = h(r=zTod(1), f=smbh_f, M=smbh_M)"
   ]
  },
  {
   "cell_type": "code",
   "execution_count": null,
   "metadata": {},
   "outputs": [],
   "source": [
    "levels = np.logspace(-29,-16,10)\n",
    "\n",
    "fig, ax = plt.subplots(figsize=(10,8))\n",
    "im = ax.pcolormesh(smbh_f, smbh_M, smbh_h, \\\n",
    "    norm=colors.LogNorm(vmin=smbh_h.min(), vmax=smbh_h.max()))\n",
    "fig.colorbar(im, ax=ax)\n",
    "cont = ax.contour(smbh_f, smbh_M, smbh_h , levels, linewidths=1, alpha=.9, colors='k', locator=plt.LogLocator())\n",
    "ax.clabel(cont, levels, fmt='%1.0e',inline=True, use_clabeltext=True, rightside_up=1, fontsize=11)\n",
    "ax.set_xlabel('GW freq [Hz]')\n",
    "ax.set_ylabel('Chirp Mass [solar masses]')\n",
    "ax.set_xscale('log')\n",
    "ax.set_yscale('log')\n",
    "ax.set_title('SMBH strain at z = 1');\n",
    "#fig.savefig('SMBHStrainz1.pdf', bbox_inches='tight')"
   ]
  },
  {
   "cell_type": "markdown",
   "metadata": {
    "colab_type": "text",
    "id": "nlqBMRvhoXQu"
   },
   "source": [
    "<a name=\"bwd\"> </a>\n",
    "\n",
    "## 2. BWD Preliminaries\n",
    "\n",
    "The spatial, mass, and frequency distribution of the BWD population"
   ]
  },
  {
   "cell_type": "code",
   "execution_count": null,
   "metadata": {
    "colab": {},
    "colab_type": "code",
    "id": "UBQZkVZgxibU"
   },
   "outputs": [],
   "source": [
    "def dfdt(f=1e-3, M=1):\n",
    "    '''Returns orbital evolution rate for BWD (Lamberts 2019 eq 5)\n",
    "    f: Hz\n",
    "    M: solar masses\n",
    "    \n",
    "    returns: Hz/year'''\n",
    "    prefactor = (scc.G / scc.c**3 * M_sol)**(5/3) * 96/5 * np.pi**(8/3)\n",
    "    return prefactor * M**(5/3) * f**(11/3) * (3600*24*365)"
   ]
  },
  {
   "cell_type": "code",
   "execution_count": null,
   "metadata": {},
   "outputs": [],
   "source": [
    "mc_ = np.linspace(.3,2,50)\n",
    "f_ = np.logspace(-4,-1,50)\n",
    "mc,f = np.meshgrid(mc_,f_)\n",
    "h_vals = h(f=f,M=mc)"
   ]
  },
  {
   "cell_type": "code",
   "execution_count": null,
   "metadata": {},
   "outputs": [],
   "source": [
    "fig, ax = plt.subplots(2,1, sharex=True, figsize=(6,10))\n",
    "ax[0].loglog(f_, dfdt(f=f_))\n",
    "\n",
    "ax[0].set_ylabel('df/dt  [Hz/year]')\n",
    "\n",
    "ax[1].loglog(f_, dfdt(f=f_)/f_)\n",
    "ax[1].set_xlabel('GW frequency [Hz]')\n",
    "ax[1].set_ylabel('dfdt/f  [1/year]')\n",
    "fig.suptitle('Orbital frequency evolution of BWD');\n",
    "\n"
   ]
  },
  {
   "cell_type": "markdown",
   "metadata": {
    "colab_type": "text",
    "id": "zGks7QBF0Cz3"
   },
   "source": [
    "### Mass distribution\n",
    "Using the quadrupole formula (above) $h$ is plotted below as a function of chirp mass and GW frequency"
   ]
  },
  {
   "cell_type": "code",
   "execution_count": null,
   "metadata": {
    "colab": {
     "base_uri": "https://localhost:8080/",
     "height": 563
    },
    "colab_type": "code",
    "id": "qamE-Lifxiba",
    "outputId": "2d0adcf8-6cac-4a3f-b7f1-f465b8760347",
    "scrolled": true
   },
   "outputs": [],
   "source": [
    "levels = np.logspace(-21,-17,10)\n",
    "fig, ax = plt.subplots(figsize=(10,8))\n",
    "im = ax.pcolormesh(f, mc, h_vals, \\\n",
    "    norm=colors.LogNorm(vmin=h_vals.min(), vmax=h_vals.max()))\n",
    "fig.colorbar(im, ax=ax)\n",
    "cont = ax.contour(f, mc, h_vals , levels, linewidths=.5,colors='k')\n",
    "ax.clabel(cont, fmt='%1.0e',inline=1, fontsize=10)\n",
    "ax.set_xlabel('Frequency [Hz]')\n",
    "ax.set_ylabel('Chirp Mass')\n",
    "ax.set_xscale('log')\n",
    "ax.set_title('Strain at 1 kPc');\n",
    "#fig.savefig('Strain1kpc.pdf', bbox_inches='tight')"
   ]
  },
  {
   "cell_type": "code",
   "execution_count": null,
   "metadata": {},
   "outputs": [],
   "source": [
    "1/24/3600"
   ]
  },
  {
   "cell_type": "markdown",
   "metadata": {},
   "source": [
    "<a name=\"phase\"> </a>\n",
    "\n",
    "## 3. Phase Tracker\n",
    "\n",
    "In order to be able to calculate the phase evolution of the modulation of GW signal measured at the earth from a single BWD, assuming we know the frequency of the GW signal from the BWD, $f_{GW}$, \n",
    "\n"
   ]
  },
  {
   "cell_type": "code",
   "execution_count": null,
   "metadata": {},
   "outputs": [],
   "source": [
    "sample_rate = 1e-3         # 1 Hz\n",
    "max_time = 5 * 24*3600         # in days\n",
    "order = 4                # filter order\n",
    "safety = 1e-2"
   ]
  },
  {
   "cell_type": "code",
   "execution_count": null,
   "metadata": {},
   "outputs": [],
   "source": [
    "fgw = 1e-3\n",
    "fsig = 1e-7\n",
    "hsig = 1e-16"
   ]
  },
  {
   "cell_type": "code",
   "execution_count": null,
   "metadata": {},
   "outputs": [],
   "source": [
    "def butter_lowpass(data, cutoff, fs, order=5):\n",
    "    nyq = 0.5 * fs\n",
    "    normalCutoff = cutoff / nyq\n",
    "    b, a = butter(order, normalCutoff, btype='low', analog=True)\n",
    "    y = filtfilt(b, a, data)\n",
    "    return y\n",
    "\n",
    "def signal(t, fgw=fgw, fsig=fsig, hsig=hsig, phi=0):\n",
    "    return np.cos(2*np.pi*fgw*t + hsig*np.cos(2*np.pi*fsig*t) - phi)\n",
    "\n",
    "   "
   ]
  },
  {
   "cell_type": "code",
   "execution_count": null,
   "metadata": {},
   "outputs": [],
   "source": [
    "t = np.linspace(0, max_time, int(max_time*sample_rate))\n",
    "x_sig = signal(t)\n",
    "x_noise = np.zeros_like(t)\n",
    "\n",
    "x_data = x_sig + x_noise\n",
    "y = butter_lowpass(x_data, cutoff, sample_rate, order)"
   ]
  },
  {
   "cell_type": "markdown",
   "metadata": {},
   "source": [
    "Phase tracker:"
   ]
  },
  {
   "cell_type": "code",
   "execution_count": null,
   "metadata": {},
   "outputs": [],
   "source": [
    "x_ref = signal(t, hsig=0, phi=np.pi/2)\n",
    "prod = x_ref * x_sig\n",
    "\n",
    "signal_data = butter_lowpass(prod, (1+safety)*fgw, sample_rate, order)"
   ]
  },
  {
   "cell_type": "code",
   "execution_count": null,
   "metadata": {},
   "outputs": [],
   "source": [
    "fig, ax = plt.subplots(figsize=(12,8))\n",
    "#ax.plot(t, x_sig, label='raw data')\n",
    "ax.plot(t, signal_data, label='estimated signal')\n",
    "#ax.plot(t, signal(t, fgw=fsig, hsig=0), label='true signal')\n",
    "ax.legend()\n",
    "#ax.plot(t, y)"
   ]
  },
  {
   "cell_type": "markdown",
   "metadata": {},
   "source": [
    "## Other useful calculations"
   ]
  },
  {
   "cell_type": "markdown",
   "metadata": {},
   "source": [
    "Chirp mass depending on individual masses:"
   ]
  },
  {
   "cell_type": "code",
   "execution_count": null,
   "metadata": {
    "colab": {
     "base_uri": "https://localhost:8080/",
     "height": 342
    },
    "colab_type": "code",
    "id": "df6Y5h44xibi",
    "outputId": "8a9f9f22-8b22-47e5-d5e7-16e77aa8b855"
   },
   "outputs": [],
   "source": [
    "m_ = np.linspace(.17,1.33,20)\n",
    "m1, m2 = np.meshgrid(m_,m_)\n",
    "mc = Mchirp(m1,m2)\n",
    "\n",
    "fig, ax = plt.subplots()\n",
    "im = ax.pcolormesh(m1, m2, mc)\n",
    "fig.colorbar(im, ax=ax)\n",
    "cont = ax.contour(m1, m2, mc, linewidths=.5,colors='k')\n",
    "ax.clabel(cont, fmt='%1.1f',inline=1, fontsize=10)\n",
    "ax.set_xlabel('M1')\n",
    "ax.set_ylabel('M2')\n",
    "ax.set_title('Chirp mass')\n",
    "#fig.tight_layout()"
   ]
  },
  {
   "cell_type": "code",
   "execution_count": null,
   "metadata": {
    "colab": {},
    "colab_type": "code",
    "id": "ucRYN7NPxibu"
   },
   "outputs": [],
   "source": []
  },
  {
   "cell_type": "code",
   "execution_count": null,
   "metadata": {},
   "outputs": [],
   "source": []
  },
  {
   "cell_type": "code",
   "execution_count": null,
   "metadata": {},
   "outputs": [],
   "source": []
  }
 ],
 "metadata": {
  "colab": {
   "name": "BWDTA.ipynb",
   "provenance": []
  },
  "kernelspec": {
   "display_name": "Python 3",
   "language": "python",
   "name": "python3"
  },
  "language_info": {
   "codemirror_mode": {
    "name": "ipython",
    "version": 3
   },
   "file_extension": ".py",
   "mimetype": "text/x-python",
   "name": "python",
   "nbconvert_exporter": "python",
   "pygments_lexer": "ipython3",
   "version": "3.7.7"
  }
 },
 "nbformat": 4,
 "nbformat_minor": 4
}
